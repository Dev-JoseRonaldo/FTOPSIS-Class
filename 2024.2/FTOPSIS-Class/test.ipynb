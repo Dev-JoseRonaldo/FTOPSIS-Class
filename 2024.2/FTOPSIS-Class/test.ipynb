{
 "cells": [
  {
   "cell_type": "code",
   "execution_count": 171,
   "metadata": {},
   "outputs": [],
   "source": [
    "from ftopsis_class import CriteriaType\n",
    "from ftopsis_class import FTOPSISClass as ft\n",
    "\n",
    "import numpy as np\n",
    "import pandas as pd"
   ]
  },
  {
   "cell_type": "code",
   "execution_count": 172,
   "metadata": {},
   "outputs": [],
   "source": [
    "# Váriáveis Linguísticas para avaliação alternativas\n",
    "VL = np.array([0.0, 0.0, 0.1, 0.2]) # Muito Ruim\n",
    "L = np.array([0.1, 0.2, 0.3, 0.4]) # Ruim\n",
    "M = np.array([0.3, 0.4, 0.5, 0.6]) # Medio\n",
    "H = np.array([0.5, 0.6, 0.7, 0.8]) # Bom\n",
    "VH = np.array([0.7, 0.8, 0.9, 1.0]) # Muito Bom\n",
    "\n",
    "#Variáveis Linguísticas dos pesos dos critérios\n",
    "U = np.array([0.0, 0.0, 0.1, 0.2]) # Nada Importante\n",
    "MI = np.array([0.1, 0.2, 0.3, 0.4]) # Pouco Importante\n",
    "I = np.array([0.3, 0.4, 0.5, 0.6]) # Importancia Media\n",
    "VI = np.array([0.5, 0.6, 0.7, 0.8]) # Importante\n",
    "EI = np.array([0.7, 0.8, 0.9, 1.0]) # Muito Importante"
   ]
  },
  {
   "cell_type": "code",
   "execution_count": 173,
   "metadata": {},
   "outputs": [],
   "source": [
    "dados_matriz_decisao = {\n",
    "    \"C1\": [VL, VL, L, L, M, M, H, H, VH, VH],\n",
    "    'C2': [VL, VL, VL, VL, VL, VL, H, L, VL, VH],\n",
    "    'C3': [H, VH, H, VH, VH, VH, VH, VL, VH, L],\n",
    "    'C4': [VL, VL, L, L, M, M, H, H, VH, VH],\n",
    "    'C5': [VH, VH, H, H, M, M, L, L, VL, VL],\n",
    "    'C6': [VL, VL, L, L, M, M, H, H, VH, VH],\n",
    "    'C7': [M, M, M, M, VH, VH, VH, H, H, VH]\n",
    "}\n",
    "matriz_decisao = pd.DataFrame(dados_matriz_decisao)\n",
    "\n",
    "dados_perfil = {\n",
    "    \"C1\": [L, L, H, VH],\n",
    "    'C2': [VL, VL, VL, VL],\n",
    "    'C3': [VL, L, H, VH],\n",
    "    'C4': [VL, L, H, VH],\n",
    "    'C5': [VH, H, L, VL],\n",
    "    'C6': [VL, L, H, VH],\n",
    "    'C7': [H, H, L, VL]\n",
    "    \n",
    "}\n",
    "matriz_perfil = pd.DataFrame(dados_perfil)\n",
    "\n",
    "mapeamento_perfil = {0: 'Conservador', 1: 'Moderado', 2: 'Audacioso', 3: 'Agressivo'}"
   ]
  },
  {
   "cell_type": "code",
   "execution_count": 174,
   "metadata": {},
   "outputs": [],
   "source": [
    "pesos = {\"C1\": [VI], \"C2\": [VI], \"C3\": [VI], \"C4\": [VI], \"C5\": [VI], \"C6\": [VI], \"C7\": [VI]}\n",
    "pesos = pd.DataFrame(pesos)\n",
    "\n",
    "tipo_criterio = {\n",
    "    \"C1\": CriteriaType.Benefit,\n",
    "    \"C2\": CriteriaType.Benefit,\n",
    "    \"C3\": CriteriaType.Benefit,\n",
    "    \"C4\": CriteriaType.Benefit,\n",
    "    \"C5\": CriteriaType.Benefit,\n",
    "    \"C6\": CriteriaType.Benefit,\n",
    "    \"C7\": CriteriaType.Benefit\n",
    "}"
   ]
  },
  {
   "cell_type": "code",
   "execution_count": 175,
   "metadata": {},
   "outputs": [],
   "source": [
    "# normalizar matriz de decisao\n",
    "matriz_normalizada = ft.normalize_matrix(matriz_decisao, tipo_criterio)\n",
    "\n",
    "# ponderar matriz de perfil\n",
    "matriz_ponderada = ft.weigh_matrix(matriz_normalizada, pesos)\n",
    "\n",
    "# arredondar numeros para 4 casas decimais\n",
    "matriz_decisao_normalizada_ponderada  = ft.round_weighted_normalized_matrix(matriz_ponderada)"
   ]
  },
  {
   "cell_type": "code",
   "execution_count": 176,
   "metadata": {},
   "outputs": [],
   "source": [
    "# normalizar matriz de perfil\n",
    "matriz_perfil_normalizada = ft.normalize_matrix(matriz_perfil, tipo_criterio)\n",
    "\n",
    "# ponderar matriz de perfil\n",
    "matriz_perfil_ponderada = ft.weigh_matrix(matriz_perfil_normalizada, pesos)\n",
    "\n",
    "# arredondar numeros para 4 casas decimais\n",
    "matriz_perfil_normalizada_ponderada = ft.round_weighted_normalized_matrix(matriz_perfil_ponderada)"
   ]
  },
  {
   "cell_type": "code",
   "execution_count": 177,
   "metadata": {},
   "outputs": [],
   "source": [
    "solucao_ideal_positiva, solucao_ideal_negativa = ft.ideal_solution(matriz_perfil_normalizada_ponderada, mapeamento_perfil)"
   ]
  },
  {
   "cell_type": "code",
   "execution_count": 178,
   "metadata": {},
   "outputs": [],
   "source": [
    "distancia_positiva, distancia_neagtiva = ft.distance_calculation(matriz_decisao_normalizada_ponderada, solucao_ideal_positiva, solucao_ideal_negativa)"
   ]
  },
  {
   "cell_type": "code",
   "execution_count": 179,
   "metadata": {},
   "outputs": [],
   "source": [
    "resultado = ft.proximity_coefficient(distancia_positiva, distancia_neagtiva)"
   ]
  },
  {
   "cell_type": "code",
   "execution_count": 180,
   "metadata": {},
   "outputs": [
    {
     "data": {
      "text/html": [
       "<div>\n",
       "<style scoped>\n",
       "    .dataframe tbody tr th:only-of-type {\n",
       "        vertical-align: middle;\n",
       "    }\n",
       "\n",
       "    .dataframe tbody tr th {\n",
       "        vertical-align: top;\n",
       "    }\n",
       "\n",
       "    .dataframe thead th {\n",
       "        text-align: right;\n",
       "    }\n",
       "</style>\n",
       "<table border=\"1\" class=\"dataframe\">\n",
       "  <thead>\n",
       "    <tr style=\"text-align: right;\">\n",
       "      <th></th>\n",
       "      <th>Conservador</th>\n",
       "      <th>Moderado</th>\n",
       "      <th>Audacioso</th>\n",
       "      <th>Agressivo</th>\n",
       "    </tr>\n",
       "  </thead>\n",
       "  <tbody>\n",
       "    <tr>\n",
       "      <th>Fornecedor 1</th>\n",
       "      <td>0.792800</td>\n",
       "      <td>0.731990</td>\n",
       "      <td>0.593187</td>\n",
       "      <td>0.207200</td>\n",
       "    </tr>\n",
       "    <tr>\n",
       "      <th>Fornecedor 2</th>\n",
       "      <td>0.750366</td>\n",
       "      <td>0.692772</td>\n",
       "      <td>0.561405</td>\n",
       "      <td>0.249634</td>\n",
       "    </tr>\n",
       "    <tr>\n",
       "      <th>Fornecedor 3</th>\n",
       "      <td>0.685481</td>\n",
       "      <td>0.832116</td>\n",
       "      <td>0.622950</td>\n",
       "      <td>0.314519</td>\n",
       "    </tr>\n",
       "    <tr>\n",
       "      <th>Fornecedor 4</th>\n",
       "      <td>0.639421</td>\n",
       "      <td>0.776155</td>\n",
       "      <td>0.581056</td>\n",
       "      <td>0.360579</td>\n",
       "    </tr>\n",
       "    <tr>\n",
       "      <th>Fornecedor 5</th>\n",
       "      <td>0.501349</td>\n",
       "      <td>0.597346</td>\n",
       "      <td>0.597346</td>\n",
       "      <td>0.498651</td>\n",
       "    </tr>\n",
       "    <tr>\n",
       "      <th>Fornecedor 6</th>\n",
       "      <td>0.501349</td>\n",
       "      <td>0.597346</td>\n",
       "      <td>0.597346</td>\n",
       "      <td>0.498651</td>\n",
       "    </tr>\n",
       "    <tr>\n",
       "      <th>Fornecedor 7</th>\n",
       "      <td>0.365917</td>\n",
       "      <td>0.419915</td>\n",
       "      <td>0.609242</td>\n",
       "      <td>0.634083</td>\n",
       "    </tr>\n",
       "    <tr>\n",
       "      <th>Fornecedor 8</th>\n",
       "      <td>0.498796</td>\n",
       "      <td>0.543095</td>\n",
       "      <td>0.666641</td>\n",
       "      <td>0.501204</td>\n",
       "    </tr>\n",
       "    <tr>\n",
       "      <th>Fornecedor 9</th>\n",
       "      <td>0.135419</td>\n",
       "      <td>0.164182</td>\n",
       "      <td>0.296964</td>\n",
       "      <td>0.864581</td>\n",
       "    </tr>\n",
       "    <tr>\n",
       "      <th>fornecedor 10</th>\n",
       "      <td>0.344489</td>\n",
       "      <td>0.391788</td>\n",
       "      <td>0.457615</td>\n",
       "      <td>0.655511</td>\n",
       "    </tr>\n",
       "  </tbody>\n",
       "</table>\n",
       "</div>"
      ],
      "text/plain": [
       "               Conservador  Moderado  Audacioso  Agressivo\n",
       "Fornecedor 1      0.792800  0.731990   0.593187   0.207200\n",
       "Fornecedor 2      0.750366  0.692772   0.561405   0.249634\n",
       "Fornecedor 3      0.685481  0.832116   0.622950   0.314519\n",
       "Fornecedor 4      0.639421  0.776155   0.581056   0.360579\n",
       "Fornecedor 5      0.501349  0.597346   0.597346   0.498651\n",
       "Fornecedor 6      0.501349  0.597346   0.597346   0.498651\n",
       "Fornecedor 7      0.365917  0.419915   0.609242   0.634083\n",
       "Fornecedor 8      0.498796  0.543095   0.666641   0.501204\n",
       "Fornecedor 9      0.135419  0.164182   0.296964   0.864581\n",
       "fornecedor 10     0.344489  0.391788   0.457615   0.655511"
      ]
     },
     "execution_count": 180,
     "metadata": {},
     "output_type": "execute_result"
    }
   ],
   "source": [
    "fornecedores = [\"Fornecedor 1\", \"Fornecedor 2\", \"Fornecedor 3\", \"Fornecedor 4\",\n",
    "                \"Fornecedor 5\", \"Fornecedor 6\", \"Fornecedor 7\", \"Fornecedor 8\", \"Fornecedor 9\", \"fornecedor 10\"]\n",
    "\n",
    "resultado.index=fornecedores\n",
    "\n",
    "resultado"
   ]
  }
 ],
 "metadata": {
  "kernelspec": {
   "display_name": "FTOPSIS-Class",
   "language": "python",
   "name": "ftopsis-class"
  },
  "language_info": {
   "codemirror_mode": {
    "name": "ipython",
    "version": 3
   },
   "file_extension": ".py",
   "mimetype": "text/x-python",
   "name": "python",
   "nbconvert_exporter": "python",
   "pygments_lexer": "ipython3",
   "version": "3.13.2"
  }
 },
 "nbformat": 4,
 "nbformat_minor": 2
}
